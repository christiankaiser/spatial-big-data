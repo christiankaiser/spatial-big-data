{
 "cells": [
  {
   "cell_type": "markdown",
   "id": "8075a0f9",
   "metadata": {},
   "source": [
    "# Dask DataFrames"
   ]
  },
  {
   "cell_type": "markdown",
   "id": "8b59544d",
   "metadata": {},
   "source": [
    "Dask DataFrames sind eine Sammlung von Pandas DataFrames, die Reihen-weise gruppiert sind und durch einen Index organisiert sind. Diese Pandas DataFrames müssen nicht zwingend auf dem lokalen Computer vorhanden sein.\n",
    "\n",
    "Das DataFrame API von Pandas wird auch von Dask übernommen und die Datenmanipulation ist deshalb weitgehend gleich.\n",
    "\n",
    "Anstatt Pandas zu importieren, wird einfach Dask DataFrame importiert:"
   ]
  },
  {
   "cell_type": "code",
   "execution_count": 1,
   "id": "06d8bc7d",
   "metadata": {},
   "outputs": [],
   "source": [
    "import dask.dataframe as dd"
   ]
  },
  {
   "cell_type": "markdown",
   "id": "e10c02bf",
   "metadata": {},
   "source": [
    "## Daten einlesen\n",
    "\n",
    "Wir können nun einfach Daten einlesen wie in Pandas:"
   ]
  },
  {
   "cell_type": "code",
   "execution_count": 2,
   "id": "598c581f",
   "metadata": {},
   "outputs": [],
   "source": [
    "df = dd.read_csv(\n",
    "    '../data/LoRa-Sensoren-ZH/*.csv',\n",
    "    sep = \";\",\n",
    "    dtype = { 'magl': 'float64' }\n",
    ")"
   ]
  },
  {
   "cell_type": "markdown",
   "id": "3bdb9870",
   "metadata": {},
   "source": [
    "Dabei erkennen wir zwei Unterschiede:\n",
    "\n",
    "1. Wir lesen hier nicht eine Datei ein, sondern gleich 42 CSV-Dateien in einem Befehl. Dies geschieht dank dem Sternzeichen anstatt dem genauen Namen. Allerdings ist es wichtig dass die Datenstruktur für alle Dateien identisch ist.\n",
    "\n",
    "2. Ein `dtype`-Argument wurde hinzugefügt. Dies ist spezifisch für Dask. Für die Spalte `magl` wurde der Datentyp von Dask nicht richtig erkannt was zu einem Fehler geführt hat. Das Einfügen dieses Befehls behebt den Fehler."
   ]
  },
  {
   "cell_type": "markdown",
   "id": "77420eca",
   "metadata": {},
   "source": [
    "---\n",
    "\n",
    "## Aufgabe 1\n",
    "\n",
    "Führen Sie den Befehl ohne das `dtype`-Argument aus. Schauen Sie ob der Fehler ebenfalls geschieht. Und wenn ja, versuchen Sie den Fehlertext zu studieren um zu verstehen, wie die Lösung gefunden werden konnte.\n",
    "\n",
    "---"
   ]
  },
  {
   "cell_type": "markdown",
   "id": "b1f96ae2",
   "metadata": {},
   "source": [
    "## Datenmanipulationen"
   ]
  },
  {
   "cell_type": "markdown",
   "id": "45106557",
   "metadata": {},
   "source": [
    "Wir können natürlich die ersten par Zeilen des Datensatzes anschauen:"
   ]
  },
  {
   "cell_type": "code",
   "execution_count": 17,
   "id": "79233bdf",
   "metadata": {},
   "outputs": [
    {
     "data": {
      "text/html": [
       "<div>\n",
       "<style scoped>\n",
       "    .dataframe tbody tr th:only-of-type {\n",
       "        vertical-align: middle;\n",
       "    }\n",
       "\n",
       "    .dataframe tbody tr th {\n",
       "        vertical-align: top;\n",
       "    }\n",
       "\n",
       "    .dataframe thead th {\n",
       "        text-align: right;\n",
       "    }\n",
       "</style>\n",
       "<table border=\"1\" class=\"dataframe\">\n",
       "  <thead>\n",
       "    <tr style=\"text-align: right;\">\n",
       "      <th></th>\n",
       "      <th>starttime</th>\n",
       "      <th>site</th>\n",
       "      <th>masl</th>\n",
       "      <th>magl</th>\n",
       "      <th>x</th>\n",
       "      <th>y</th>\n",
       "      <th>sensor</th>\n",
       "      <th>temperature</th>\n",
       "      <th>humidity</th>\n",
       "    </tr>\n",
       "  </thead>\n",
       "  <tbody>\n",
       "    <tr>\n",
       "      <th>0</th>\n",
       "      <td>2022-09-01 00:00</td>\n",
       "      <td>Bülach - Feldermösli</td>\n",
       "      <td>417</td>\n",
       "      <td>2.0</td>\n",
       "      <td>2682216</td>\n",
       "      <td>1262843</td>\n",
       "      <td>531</td>\n",
       "      <td>15.38</td>\n",
       "      <td>87.46</td>\n",
       "    </tr>\n",
       "    <tr>\n",
       "      <th>1</th>\n",
       "      <td>2022-09-01 00:10</td>\n",
       "      <td>Bülach - Feldermösli</td>\n",
       "      <td>417</td>\n",
       "      <td>2.0</td>\n",
       "      <td>2682216</td>\n",
       "      <td>1262843</td>\n",
       "      <td>531</td>\n",
       "      <td>15.38</td>\n",
       "      <td>87.54</td>\n",
       "    </tr>\n",
       "    <tr>\n",
       "      <th>2</th>\n",
       "      <td>2022-09-01 00:20</td>\n",
       "      <td>Bülach - Feldermösli</td>\n",
       "      <td>417</td>\n",
       "      <td>2.0</td>\n",
       "      <td>2682216</td>\n",
       "      <td>1262843</td>\n",
       "      <td>531</td>\n",
       "      <td>15.24</td>\n",
       "      <td>87.76</td>\n",
       "    </tr>\n",
       "    <tr>\n",
       "      <th>3</th>\n",
       "      <td>2022-09-01 00:30</td>\n",
       "      <td>Bülach - Feldermösli</td>\n",
       "      <td>417</td>\n",
       "      <td>2.0</td>\n",
       "      <td>2682216</td>\n",
       "      <td>1262843</td>\n",
       "      <td>531</td>\n",
       "      <td>15.15</td>\n",
       "      <td>87.50</td>\n",
       "    </tr>\n",
       "    <tr>\n",
       "      <th>4</th>\n",
       "      <td>2022-09-01 00:40</td>\n",
       "      <td>Bülach - Feldermösli</td>\n",
       "      <td>417</td>\n",
       "      <td>2.0</td>\n",
       "      <td>2682216</td>\n",
       "      <td>1262843</td>\n",
       "      <td>531</td>\n",
       "      <td>15.12</td>\n",
       "      <td>87.28</td>\n",
       "    </tr>\n",
       "  </tbody>\n",
       "</table>\n",
       "</div>"
      ],
      "text/plain": [
       "          starttime                  site  masl  magl        x        y  \\\n",
       "0  2022-09-01 00:00  Bülach - Feldermösli   417   2.0  2682216  1262843   \n",
       "1  2022-09-01 00:10  Bülach - Feldermösli   417   2.0  2682216  1262843   \n",
       "2  2022-09-01 00:20  Bülach - Feldermösli   417   2.0  2682216  1262843   \n",
       "3  2022-09-01 00:30  Bülach - Feldermösli   417   2.0  2682216  1262843   \n",
       "4  2022-09-01 00:40  Bülach - Feldermösli   417   2.0  2682216  1262843   \n",
       "\n",
       "   sensor  temperature  humidity  \n",
       "0     531        15.38     87.46  \n",
       "1     531        15.38     87.54  \n",
       "2     531        15.24     87.76  \n",
       "3     531        15.15     87.50  \n",
       "4     531        15.12     87.28  "
      ]
     },
     "execution_count": 17,
     "metadata": {},
     "output_type": "execute_result"
    }
   ],
   "source": [
    "df.head()"
   ]
  },
  {
   "cell_type": "markdown",
   "id": "e833d262",
   "metadata": {},
   "source": [
    "Wie viele Datenpunkte haben wir?"
   ]
  },
  {
   "cell_type": "code",
   "execution_count": 30,
   "id": "61fef675",
   "metadata": {},
   "outputs": [
    {
     "data": {
      "text/plain": [
       "207696"
      ]
     },
     "execution_count": 30,
     "metadata": {},
     "output_type": "execute_result"
    }
   ],
   "source": [
    "len(df)"
   ]
  },
  {
   "cell_type": "markdown",
   "id": "ad155c6c",
   "metadata": {},
   "source": [
    "Wir können wie gewohnt Berechnungen anstellen, z.B. eine Spalte mit der Temperatur in Fahrenheit hinzufügen:"
   ]
  },
  {
   "cell_type": "code",
   "execution_count": 25,
   "id": "abd44bb9",
   "metadata": {},
   "outputs": [],
   "source": [
    "df['temp_F'] = (df['temperature'] * 9 / 5) + 32"
   ]
  },
  {
   "cell_type": "code",
   "execution_count": 26,
   "id": "e0267fc9",
   "metadata": {},
   "outputs": [
    {
     "data": {
      "text/html": [
       "<div>\n",
       "<style scoped>\n",
       "    .dataframe tbody tr th:only-of-type {\n",
       "        vertical-align: middle;\n",
       "    }\n",
       "\n",
       "    .dataframe tbody tr th {\n",
       "        vertical-align: top;\n",
       "    }\n",
       "\n",
       "    .dataframe thead th {\n",
       "        text-align: right;\n",
       "    }\n",
       "</style>\n",
       "<table border=\"1\" class=\"dataframe\">\n",
       "  <thead>\n",
       "    <tr style=\"text-align: right;\">\n",
       "      <th></th>\n",
       "      <th>starttime</th>\n",
       "      <th>site</th>\n",
       "      <th>masl</th>\n",
       "      <th>magl</th>\n",
       "      <th>x</th>\n",
       "      <th>y</th>\n",
       "      <th>sensor</th>\n",
       "      <th>temperature</th>\n",
       "      <th>humidity</th>\n",
       "      <th>temp_F</th>\n",
       "    </tr>\n",
       "  </thead>\n",
       "  <tbody>\n",
       "    <tr>\n",
       "      <th>0</th>\n",
       "      <td>2022-09-01 00:00</td>\n",
       "      <td>Bülach - Feldermösli</td>\n",
       "      <td>417</td>\n",
       "      <td>2.0</td>\n",
       "      <td>2682216</td>\n",
       "      <td>1262843</td>\n",
       "      <td>531</td>\n",
       "      <td>15.38</td>\n",
       "      <td>87.46</td>\n",
       "      <td>59.684</td>\n",
       "    </tr>\n",
       "    <tr>\n",
       "      <th>1</th>\n",
       "      <td>2022-09-01 00:10</td>\n",
       "      <td>Bülach - Feldermösli</td>\n",
       "      <td>417</td>\n",
       "      <td>2.0</td>\n",
       "      <td>2682216</td>\n",
       "      <td>1262843</td>\n",
       "      <td>531</td>\n",
       "      <td>15.38</td>\n",
       "      <td>87.54</td>\n",
       "      <td>59.684</td>\n",
       "    </tr>\n",
       "    <tr>\n",
       "      <th>2</th>\n",
       "      <td>2022-09-01 00:20</td>\n",
       "      <td>Bülach - Feldermösli</td>\n",
       "      <td>417</td>\n",
       "      <td>2.0</td>\n",
       "      <td>2682216</td>\n",
       "      <td>1262843</td>\n",
       "      <td>531</td>\n",
       "      <td>15.24</td>\n",
       "      <td>87.76</td>\n",
       "      <td>59.432</td>\n",
       "    </tr>\n",
       "    <tr>\n",
       "      <th>3</th>\n",
       "      <td>2022-09-01 00:30</td>\n",
       "      <td>Bülach - Feldermösli</td>\n",
       "      <td>417</td>\n",
       "      <td>2.0</td>\n",
       "      <td>2682216</td>\n",
       "      <td>1262843</td>\n",
       "      <td>531</td>\n",
       "      <td>15.15</td>\n",
       "      <td>87.50</td>\n",
       "      <td>59.270</td>\n",
       "    </tr>\n",
       "    <tr>\n",
       "      <th>4</th>\n",
       "      <td>2022-09-01 00:40</td>\n",
       "      <td>Bülach - Feldermösli</td>\n",
       "      <td>417</td>\n",
       "      <td>2.0</td>\n",
       "      <td>2682216</td>\n",
       "      <td>1262843</td>\n",
       "      <td>531</td>\n",
       "      <td>15.12</td>\n",
       "      <td>87.28</td>\n",
       "      <td>59.216</td>\n",
       "    </tr>\n",
       "  </tbody>\n",
       "</table>\n",
       "</div>"
      ],
      "text/plain": [
       "          starttime                  site  masl  magl        x        y  \\\n",
       "0  2022-09-01 00:00  Bülach - Feldermösli   417   2.0  2682216  1262843   \n",
       "1  2022-09-01 00:10  Bülach - Feldermösli   417   2.0  2682216  1262843   \n",
       "2  2022-09-01 00:20  Bülach - Feldermösli   417   2.0  2682216  1262843   \n",
       "3  2022-09-01 00:30  Bülach - Feldermösli   417   2.0  2682216  1262843   \n",
       "4  2022-09-01 00:40  Bülach - Feldermösli   417   2.0  2682216  1262843   \n",
       "\n",
       "   sensor  temperature  humidity  temp_F  \n",
       "0     531        15.38     87.46  59.684  \n",
       "1     531        15.38     87.54  59.684  \n",
       "2     531        15.24     87.76  59.432  \n",
       "3     531        15.15     87.50  59.270  \n",
       "4     531        15.12     87.28  59.216  "
      ]
     },
     "execution_count": 26,
     "metadata": {},
     "output_type": "execute_result"
    }
   ],
   "source": [
    "df.head()"
   ]
  },
  {
   "cell_type": "code",
   "execution_count": 29,
   "id": "946319c0",
   "metadata": {},
   "outputs": [
    {
     "data": {
      "text/plain": [
       "207696"
      ]
     },
     "execution_count": 29,
     "metadata": {},
     "output_type": "execute_result"
    }
   ],
   "source": [
    "len(df)"
   ]
  },
  {
   "cell_type": "markdown",
   "id": "a799e48d",
   "metadata": {},
   "source": [
    "Die Liste der Messstellen:"
   ]
  },
  {
   "cell_type": "code",
   "execution_count": 40,
   "id": "4bb982e1",
   "metadata": {},
   "outputs": [
    {
     "name": "stdout",
     "output_type": "stream",
     "text": [
      "Bülach - Feldermösli\n",
      "Bülach - Süd\n",
      "Elsau - Halden\n",
      "Lindau - Tagelswangen\n",
      "Oberembrach - Schüler\n",
      "Opfikon - Glattpark\n",
      "Regensdorf - Geerenwiesstrasse\n",
      "Schlieren - Badenerstrasse\n",
      "Schlieren - Brachweg\n",
      "Uster - Ackerstrasse\n",
      "Uster - Im-Lot\n",
      "Uster - Schulhaus-Dorf\n",
      "Uster - Schulhaus-Pünt\n",
      "Uster - Sunnenloobach\n",
      "Winterthur - Neumarkt\n",
      "Winterthur - Schulhaus-Altstadt\n",
      "Winterthur Bahnhof\n",
      "Zürich  Wolfrimweg\n",
      "Zürich - Allmend\n",
      "Zürich - Altuetliberg\n",
      "Zürich - Blumenfeld\n",
      "Zürich - Borrweg Hagacher\n",
      "Zürich - Bucheggplatz\n",
      "Zürich - Eichbühl\n",
      "Zürich - Grubenstrasse 56\n",
      "Zürich - Grünau\n",
      "Zürich - Hardplatz\n",
      "Zürich - Hungerbergstrasse\n",
      "Zürich - Kaserne\n",
      "Zürich - Lindenhof\n",
      "Zürich - Nordlicht\n",
      "Zürich - Nordlicht-2\n",
      "Zürich - Oerlikerpark\n",
      "Zürich - offene Rennbahn\n",
      "Zürich - Paradeplatz\n",
      "Zürich - Perron-HB\n",
      "Zürich - Rosengartenstrasse\n",
      "Zürich - Schimmelstrasse\n",
      "Zürich - Schulhaus-Borrweg\n",
      "Zürich - ScienceCity\n",
      "Zürich - Sechseläutenplatz\n",
      "Zürich - Sihl-Schanzengraben\n",
      "Zürich - Sihlfeld\n",
      "Zürich - Sihlfeld-Kapelle\n",
      "Zürich - Vulkanplatz\n",
      "Zürich - Werdinsel-neu\n",
      "Zürich - Witikon\n",
      "Zürich - Zürihorn\n"
     ]
    }
   ],
   "source": [
    "sites = df['site'].unique()\n",
    "print('\\n'.join(sites))"
   ]
  },
  {
   "cell_type": "markdown",
   "id": "857436d9",
   "metadata": {},
   "source": [
    "---\n",
    "\n",
    "## Aufgabe 2\n",
    "\n",
    "Berechnen Sie den Durchschnitt, Maximum- und Minimum-Werte pro Woche für alle Messstationen.\n",
    "\n",
    "---"
   ]
  },
  {
   "cell_type": "markdown",
   "id": "dcae295d",
   "metadata": {},
   "source": [
    "## Für was Dask DataFrames geeignet sind..."
   ]
  },
  {
   "cell_type": "markdown",
   "id": "31efb5fc",
   "metadata": {},
   "source": [
    "Dask DataFrames ersetzen einfach Pandas-Frameworks und sind somit sehr einfach zu benutzen.\n",
    "\n",
    "Allerdings sollten Dask DataFrames nur dann benutzt werden, wenn die Daten zu gross sind, oder wenn die Berechnungen zu lange dauern. Die verteilte Berechnung hat zwangsläufig einen Overhead, und der sollte nur in Kauf genommen werden, wenn es nicht anders geht.\n",
    "\n",
    "Zudem macht die parallele Verarbeitung nur dann Sinn, wenn die Berechnung auch parallelisierbar ist. Dask ist auch nicht einfach ein Wundermittel gegen jegliche Datenbeschwerden. Bitte lesen Sie die Packungsbeilage... 😀"
   ]
  }
 ],
 "metadata": {
  "kernelspec": {
   "display_name": "Python 3 (ipykernel)",
   "language": "python",
   "name": "python3"
  },
  "language_info": {
   "codemirror_mode": {
    "name": "ipython",
    "version": 3
   },
   "file_extension": ".py",
   "mimetype": "text/x-python",
   "name": "python",
   "nbconvert_exporter": "python",
   "pygments_lexer": "ipython3",
   "version": "3.8.10"
  }
 },
 "nbformat": 4,
 "nbformat_minor": 5
}
