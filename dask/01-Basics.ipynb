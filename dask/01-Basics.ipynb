{
 "cells": [
  {
   "cell_type": "markdown",
   "id": "4d0d4d0e",
   "metadata": {},
   "source": [
    "# Parallele Datenverarbeitung mit Dask"
   ]
  },
  {
   "cell_type": "markdown",
   "id": "a3c6bec0",
   "metadata": {},
   "source": [
    "In diesem Beispiel sehen wir die Grundlagen, wie Python-Code mit Dask parallel (und potentiell verteilt) ausgeführt werden kann."
   ]
  },
  {
   "cell_type": "markdown",
   "id": "3cca391d",
   "metadata": {},
   "source": [
    "## Grundlagen"
   ]
  },
  {
   "cell_type": "markdown",
   "id": "9607f557",
   "metadata": {},
   "source": [
    "Als erstes schauen wir uns eine einfache Berechnung an, die eine zeitintensive Berechnung simuliert. Die `add`-Funktion addiert einfach zwei Werte, aber durch den `sleep(1)`-Befehl wartet die Funktion jedes Mal 1 Sekunde. Dies simuliert eine längere Berechnung: "
   ]
  },
  {
   "cell_type": "code",
   "execution_count": 1,
   "id": "78e9ed53",
   "metadata": {},
   "outputs": [],
   "source": [
    "from time import sleep\n",
    "\n",
    "def add(a, b):\n",
    "    sleep(1)\n",
    "    return a + b"
   ]
  },
  {
   "cell_type": "markdown",
   "id": "240f12f0",
   "metadata": {},
   "source": [
    "Wir könnnen nun zwei unabhängige Berechnungen durchführen (`x` und `y`), und anschliessend eine Berechnung, die auf den 2 vorherigen aufbaut. Wir können also die Berechnung von `x` und `y` paralellisieren.\n",
    "\n",
    "`%%time` erlaubt die Messung der Ausführungszeit."
   ]
  },
  {
   "cell_type": "code",
   "execution_count": 2,
   "id": "a74a1912",
   "metadata": {},
   "outputs": [
    {
     "name": "stdout",
     "output_type": "stream",
     "text": [
      "CPU times: user 0 ns, sys: 1.51 ms, total: 1.51 ms\n",
      "Wall time: 3 s\n"
     ]
    }
   ],
   "source": [
    "%%time\n",
    "\n",
    "x = add(1, 2)\n",
    "y = add(3, 4)\n",
    "z = add(x, y)"
   ]
  },
  {
   "cell_type": "markdown",
   "id": "8520d8fb",
   "metadata": {},
   "source": [
    "Da die Berechnung in Serie durchgeführt wird, braucht der Prozess 3 Sekunden."
   ]
  },
  {
   "cell_type": "markdown",
   "id": "f6474bb8",
   "metadata": {},
   "source": [
    "Mit `dask.delayed` können wir die Berechnung paralellisieren:"
   ]
  },
  {
   "cell_type": "code",
   "execution_count": 3,
   "id": "2e2d0781",
   "metadata": {},
   "outputs": [],
   "source": [
    "from dask import delayed"
   ]
  },
  {
   "cell_type": "code",
   "execution_count": 4,
   "id": "e965f5ac",
   "metadata": {},
   "outputs": [],
   "source": [
    "@delayed\n",
    "def add2(a, b):\n",
    "    sleep(1)\n",
    "    return a + b"
   ]
  },
  {
   "cell_type": "markdown",
   "id": "f2970968",
   "metadata": {},
   "source": [
    "Die `add2`-Funktion benutzt den `@delayed`-Dekorator, der die Funktion in eine Dask-Funktion umwandelt.\n",
    "\n",
    "Nun können wir die gleiche Berechnung wie vorhin durchführen:"
   ]
  },
  {
   "cell_type": "code",
   "execution_count": 5,
   "id": "76362475",
   "metadata": {},
   "outputs": [
    {
     "name": "stdout",
     "output_type": "stream",
     "text": [
      "CPU times: user 656 µs, sys: 123 µs, total: 779 µs\n",
      "Wall time: 684 µs\n"
     ]
    }
   ],
   "source": [
    "%%time\n",
    "\n",
    "x = add2(1, 2)\n",
    "y = add2(3, 4)\n",
    "z = add2(x, y)"
   ]
  },
  {
   "cell_type": "markdown",
   "id": "85f1bd29",
   "metadata": {},
   "source": [
    "Dabei geht die Berechnung sehr schnell. Zu schnell. Die Berechnung muss ja mindestens 2 Sekunden dauern...\n",
    "\n",
    "Die Berechnung wurde erst geplant, und noch nicht ausgeführt:"
   ]
  },
  {
   "cell_type": "code",
   "execution_count": 6,
   "id": "ae1f3f4e",
   "metadata": {},
   "outputs": [
    {
     "data": {
      "text/plain": [
       "Delayed('add2-7465f518-62ab-4ed7-b58c-2cbb724025f6')"
      ]
     },
     "execution_count": 6,
     "metadata": {},
     "output_type": "execute_result"
    }
   ],
   "source": [
    "z"
   ]
  },
  {
   "cell_type": "markdown",
   "id": "3ef1a495",
   "metadata": {},
   "source": [
    "Wir können den Ausführungsgraph anschauen."
   ]
  },
  {
   "cell_type": "code",
   "execution_count": 7,
   "id": "53a96554",
   "metadata": {},
   "outputs": [
    {
     "data": {
      "image/png": "[encoded data removed]",
      "text/plain": [
       "<IPython.core.display.Image object>"
      ]
     },
     "execution_count": 7,
     "metadata": {},
     "output_type": "execute_result"
    }
   ],
   "source": [
    "z.visualize()"
   ]
  },
  {
   "cell_type": "markdown",
   "id": "51acf557",
   "metadata": {},
   "source": [
    "Zur tatsächlichen Berechnung müssen wir die `compute()`-Funktion aufrufen:"
   ]
  },
  {
   "cell_type": "code",
   "execution_count": 8,
   "id": "0dbe4e4a",
   "metadata": {},
   "outputs": [
    {
     "name": "stdout",
     "output_type": "stream",
     "text": [
      "CPU times: user 4.19 ms, sys: 4.19 ms, total: 8.38 ms\n",
      "Wall time: 2.01 s\n"
     ]
    },
    {
     "data": {
      "text/plain": [
       "10"
      ]
     },
     "execution_count": 8,
     "metadata": {},
     "output_type": "execute_result"
    }
   ],
   "source": [
    "%%time\n",
    "\n",
    "z.compute()"
   ]
  },
  {
   "cell_type": "markdown",
   "id": "0c7e005c",
   "metadata": {},
   "source": [
    "Und tatsächlich dauert die Berechnung nun 2 Sekunden."
   ]
  },
  {
   "cell_type": "markdown",
   "id": "c46a0c25",
   "metadata": {},
   "source": [
    "## for-Schlaufe parallelisieren"
   ]
  },
  {
   "cell_type": "markdown",
   "id": "5d593de6",
   "metadata": {},
   "source": [
    "In diesem Fall schauen wir und eine Schlaufe an, die ausschliesslich aus unabhängigen Berechnungen besteht, um anschliessend eine Summe zu berechnen. Eine klassische Map-Reduce-Anwendung.\n",
    "\n",
    "Die Daten:"
   ]
  },
  {
   "cell_type": "code",
   "execution_count": 9,
   "id": "ead56ce0",
   "metadata": {},
   "outputs": [
    {
     "data": {
      "text/plain": [
       "[1, 2, 3, 4, 5, 6, 7, 8, 9]"
      ]
     },
     "execution_count": 9,
     "metadata": {},
     "output_type": "execute_result"
    }
   ],
   "source": [
    "data = list(range(1, 10))\n",
    "data"
   ]
  },
  {
   "cell_type": "markdown",
   "id": "5dd7f85a",
   "metadata": {},
   "source": [
    "Die normale Berechnung in Serie mit Python dauert 9 Sekunden:"
   ]
  },
  {
   "cell_type": "code",
   "execution_count": 10,
   "id": "ccc58919",
   "metadata": {},
   "outputs": [
    {
     "name": "stdout",
     "output_type": "stream",
     "text": [
      "CPU times: user 3.06 ms, sys: 0 ns, total: 3.06 ms\n",
      "Wall time: 9.01 s\n"
     ]
    }
   ],
   "source": [
    "%%time\n",
    "\n",
    "res = []\n",
    "for n in data:\n",
    "    a = add(n, 1)\n",
    "    res.append(a)\n",
    "\n",
    "total = sum(res)"
   ]
  },
  {
   "cell_type": "markdown",
   "id": "b9bc542c",
   "metadata": {},
   "source": [
    "Mit Dask verwenden wir in der Schlaufe die dekorierte `add2` funktion.\n",
    "\n",
    "Auch die `sum`-Funktion wird dekoriert. Diese Funktion existiert schon, deshalb können wir sie einfach mit `delayed(sum)` dekorieren, was eine neue Funktion zurückgibt.\n",
    "\n",
    "Die anschliessende Ausführung dauert noch 2 Sekunden."
   ]
  },
  {
   "cell_type": "code",
   "execution_count": 11,
   "id": "0e738f99",
   "metadata": {},
   "outputs": [
    {
     "name": "stdout",
     "output_type": "stream",
     "text": [
      "CPU times: user 6.09 ms, sys: 6.33 ms, total: 12.4 ms\n",
      "Wall time: 2.01 s\n"
     ]
    },
    {
     "data": {
      "text/plain": [
       "54"
      ]
     },
     "execution_count": 11,
     "metadata": {},
     "output_type": "execute_result"
    }
   ],
   "source": [
    "%%time\n",
    "\n",
    "res = []\n",
    "for n in data:\n",
    "    a = add2(n, 1)\n",
    "    res.append(a)\n",
    "\n",
    "total = delayed(sum)(res)\n",
    "total.compute()"
   ]
  },
  {
   "cell_type": "markdown",
   "id": "5438d4b9",
   "metadata": {},
   "source": [
    "Auch hier können wir den Ausführungsgraph anschauen:"
   ]
  },
  {
   "cell_type": "code",
   "execution_count": 12,
   "id": "a9cecd39",
   "metadata": {},
   "outputs": [
    {
     "data": {
      "image/png": "[encoded data removed]",
      "text/plain": [
       "<IPython.core.display.Image object>"
      ]
     },
     "execution_count": 12,
     "metadata": {},
     "output_type": "execute_result"
    }
   ],
   "source": [
    "total.visualize()"
   ]
  }
 ],
 "metadata": {
  "kernelspec": {
   "display_name": "Python 3 (ipykernel)",
   "language": "python",
   "name": "python3"
  },
  "language_info": {
   "codemirror_mode": {
    "name": "ipython",
    "version": 3
   },
   "file_extension": ".py",
   "mimetype": "text/x-python",
   "name": "python",
   "nbconvert_exporter": "python",
   "pygments_lexer": "ipython3",
   "version": "3.8.10"
  }
 },
 "nbformat": 4,
 "nbformat_minor": 5
}
